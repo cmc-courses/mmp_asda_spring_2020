{
 "cells": [
  {
   "cell_type": "markdown",
   "metadata": {},
   "source": [
    "## Здравствуйте, меня зовут *Максим Находнов*, вот моё Задание №2 по курсу ПСАД-2020!"
   ]
  },
  {
   "cell_type": "code",
   "execution_count": 1,
   "metadata": {},
   "outputs": [],
   "source": [
    "import numpy as np\n",
    "import scipy as sp\n",
    "import scipy.stats\n",
    "import pandas as pd\n",
    "\n",
    "import seaborn as sns\n",
    "import statsmodels.stats.proportion\n",
    "from matplotlib import pyplot as plt\n",
    "\n",
    "from collections import defaultdict\n",
    "\n",
    "sns.set()\n",
    "%matplotlib inline\n",
    "np.random.seed(228)"
   ]
  },
  {
   "cell_type": "markdown",
   "metadata": {},
   "source": [
    "### Задача 1  "
   ]
  },
  {
   "cell_type": "markdown",
   "metadata": {},
   "source": [
    "Задана выборка, включающая значения переменной $X$. "
   ]
  },
  {
   "cell_type": "code",
   "execution_count": 2,
   "metadata": {},
   "outputs": [
    {
     "name": "stdout",
     "output_type": "stream",
     "text": [
      "X sample mean:  5.206\n"
     ]
    },
    {
     "data": {
      "image/png": "[encoded data removed]",
      "text/plain": [
       "<Figure size 432x288 with 1 Axes>"
      ]
     },
     "metadata": {
      "needs_background": "light"
     },
     "output_type": "display_data"
    }
   ],
   "source": [
    "X = pd.read_excel('t1_data.xlsx').values.ravel()\n",
    "\n",
    "sns.distplot(X, label='X distribution', bins=20)\n",
    "plt.vlines(X.mean(), *plt.ylim(), linestyles='--', colors='b', label=\"X sample mean\")\n",
    "plt.legend()\n",
    "print(\"X sample mean: \", np.round(X.mean(), 3))\n",
    "plt.show()"
   ]
  },
  {
   "cell_type": "markdown",
   "metadata": {},
   "source": [
    "Определите доверительный интервал для математического ожидания на уровне $\\alpha$ (для каждого $\\alpha$ из списка) c использованием..."
   ]
  },
  {
   "cell_type": "code",
   "execution_count": 3,
   "metadata": {},
   "outputs": [],
   "source": [
    "alpha_list = np.array([0.1, 0.075, 0.05, 0.025, 0.01]) "
   ]
  },
  {
   "cell_type": "markdown",
   "metadata": {},
   "source": [
    "Распределения Стьюдента"
   ]
  },
  {
   "cell_type": "code",
   "execution_count": 4,
   "metadata": {},
   "outputs": [],
   "source": [
    "def student_mci(data, alpha=0.05):\n",
    "    t_gamma = scipy.stats.t(data.shape[0] - 1).ppf(1.0 - alpha / 2.0)\n",
    "    x_mean = np.mean(data)\n",
    "    s = np.std(data, ddof=1)\n",
    "    \n",
    "    return x_mean - t_gamma * s / np.sqrt(data.shape[0]), x_mean + t_gamma * s / np.sqrt(data.shape[0])"
   ]
  },
  {
   "cell_type": "markdown",
   "metadata": {},
   "source": [
    "Бутстрэп оценивания"
   ]
  },
  {
   "cell_type": "code",
   "execution_count": 5,
   "metadata": {},
   "outputs": [],
   "source": [
    "def bootstrap_mci(data, alpha=0.05):\n",
    "    t_gamma = scipy.stats.t(data.shape[0] - 1).ppf(1.0 - alpha / 2.0)\n",
    "    means = np.mean(np.random.choice(data, [10000, data.shape[0]]), axis=1)\n",
    "\n",
    "    return np.mean(means) - t_gamma * np.std(means, ddof=1), np.mean(means) + t_gamma * np.std(means, ddof=1)    "
   ]
  },
  {
   "cell_type": "markdown",
   "metadata": {},
   "source": [
    "Сравните результаты и сделайте выводы."
   ]
  },
  {
   "cell_type": "code",
   "execution_count": 6,
   "metadata": {},
   "outputs": [
    {
     "data": {
      "text/html": [
       "<div>\n",
       "<style scoped>\n",
       "    .dataframe tbody tr th:only-of-type {\n",
       "        vertical-align: middle;\n",
       "    }\n",
       "\n",
       "    .dataframe tbody tr th {\n",
       "        vertical-align: top;\n",
       "    }\n",
       "\n",
       "    .dataframe thead th {\n",
       "        text-align: right;\n",
       "    }\n",
       "</style>\n",
       "<table border=\"1\" class=\"dataframe\">\n",
       "  <thead>\n",
       "    <tr style=\"text-align: right;\">\n",
       "      <th></th>\n",
       "      <th>alpha</th>\n",
       "      <th>Student</th>\n",
       "      <th>Bootstrap</th>\n",
       "    </tr>\n",
       "  </thead>\n",
       "  <tbody>\n",
       "    <tr>\n",
       "      <th>0</th>\n",
       "      <td>0.100</td>\n",
       "      <td>[4.956, 5.456]</td>\n",
       "      <td>[4.956, 5.452]</td>\n",
       "    </tr>\n",
       "    <tr>\n",
       "      <th>1</th>\n",
       "      <td>0.075</td>\n",
       "      <td>[4.935, 5.477]</td>\n",
       "      <td>[4.935, 5.478]</td>\n",
       "    </tr>\n",
       "    <tr>\n",
       "      <th>2</th>\n",
       "      <td>0.050</td>\n",
       "      <td>[4.907, 5.505]</td>\n",
       "      <td>[4.911, 5.501]</td>\n",
       "    </tr>\n",
       "    <tr>\n",
       "      <th>3</th>\n",
       "      <td>0.025</td>\n",
       "      <td>[4.863, 5.549]</td>\n",
       "      <td>[4.863, 5.549]</td>\n",
       "    </tr>\n",
       "    <tr>\n",
       "      <th>4</th>\n",
       "      <td>0.010</td>\n",
       "      <td>[4.81, 5.602]</td>\n",
       "      <td>[4.81, 5.601]</td>\n",
       "    </tr>\n",
       "  </tbody>\n",
       "</table>\n",
       "</div>"
      ],
      "text/plain": [
       "   alpha         Student       Bootstrap\n",
       "0  0.100  [4.956, 5.456]  [4.956, 5.452]\n",
       "1  0.075  [4.935, 5.477]  [4.935, 5.478]\n",
       "2  0.050  [4.907, 5.505]  [4.911, 5.501]\n",
       "3  0.025  [4.863, 5.549]  [4.863, 5.549]\n",
       "4  0.010   [4.81, 5.602]   [4.81, 5.601]"
      ]
     },
     "execution_count": 6,
     "metadata": {},
     "output_type": "execute_result"
    }
   ],
   "source": [
    "res = defaultdict(list)\n",
    "res[\"alpha\"] = alpha_list\n",
    "res[\"Student\"] = [np.round(student_mci(X, alpha), 3) for alpha in alpha_list]\n",
    "res[\"Bootstrap\"] = [np.round(bootstrap_mci(X, alpha), 3) for alpha in alpha_list]\n",
    "res = pd.DataFrame(res)\n",
    "res"
   ]
  },
  {
   "cell_type": "markdown",
   "metadata": {},
   "source": [
    "**Выводы:** значения доверительных интервалов, полученных параметрическим методом и с использованием ресамплинга, в приемлемой степени совпадают, то это является веским аргументом, что этой интервальной оценке параметра можно доверять"
   ]
  },
  {
   "cell_type": "markdown",
   "metadata": {},
   "source": [
    "### Задача 2"
   ]
  },
  {
   "cell_type": "markdown",
   "metadata": {},
   "source": [
    "Два предприятия выпускают  изделия одного и того же назначения. Предприятие I выпускает изделия с математическим ожиданием срока службы $T_1$, предприятие II выпускает изделия с математическим ожиданием срока службы $T_2$. Сроки службы изделий обоих предприятий распределены нормально и стандартные отклонения для них равны $\\sigma_1$ и $\\sigma_2$ соответственно. При этом $T_1 < T_2$, но изделия второго предприятия дороже."
   ]
  },
  {
   "cell_type": "code",
   "execution_count": 7,
   "metadata": {},
   "outputs": [
    {
     "data": {
      "image/png": "[encoded data removed]",
      "text/plain": [
       "<Figure size 432x288 with 1 Axes>"
      ]
     },
     "metadata": {
      "needs_background": "light"
     },
     "output_type": "display_data"
    }
   ],
   "source": [
    "T1, T2, sigma1, sigma2 = 10, 16, 2, 3\n",
    "\n",
    "def plot_T(T, sigma, c, label):\n",
    "    norm = sp.stats.norm(loc=T, scale=sigma)\n",
    "    x = np.linspace(norm.ppf(0.01), norm.ppf(0.99), 1000)\n",
    "    plt.plot(x, norm.pdf(x), c=c)\n",
    "    plt.vlines(T, *plt.ylim(), linestyles='--', colors=c, label=label)\n",
    "    \n",
    "plot_T(T1, sigma1, 'b', 'T1')\n",
    "plot_T(T2, sigma2, 'r', 'T2')\n",
    "plt.legend()\n",
    "plt.show()"
   ]
  },
  {
   "cell_type": "markdown",
   "metadata": {},
   "source": [
    "Третье предприятие утверждает, что ему удалось разработать технологию производства изделий со средним сроком службы  предприятия II, но по цене предприятия I. В качестве доказательства предлагаются результаты тестирования для $k$ изделий. \n",
    "\n",
    "Нулевая гипотеза $H_0$ предполагает, что на самом деле срок службы изделий предприятия III имеет распределение, совпадающее с распределением срока службы изделий предприятия I. Альтернативная гипотеза $H_1$ предполагает, что срок службы изделий предприятия III имеет распределение, совпадающее с распределением срока службы изделий предприятия II. Проверка этих двух предположений производится путем сравнения эмпирически оцененного среднего срока службы протестированных изделий предприятия III с некоторым порогом $T$. Конкретное значение $T$ находится из условия того, что допустимая ошибка первого рода равна $\\alpha$. Значение ошибки второго рода обозначим через $\\beta = \\beta(\\alpha, k)$.\n",
    "\n",
    "Постройте график мощности такого теста в зависимости от $k$ и сделайте выводы."
   ]
  },
  {
   "cell_type": "code",
   "execution_count": 8,
   "metadata": {},
   "outputs": [
    {
     "data": {
      "image/png": "[encoded data removed]",
      "text/plain": [
       "<Figure size 720x504 with 1 Axes>"
      ]
     },
     "metadata": {
      "needs_background": "light"
     },
     "output_type": "display_data"
    }
   ],
   "source": [
    "alpha = 0.05\n",
    "\n",
    "\n",
    "def get_T(k, alpha=0.05):\n",
    "    return scipy.stats.norm(loc=T1, scale=sigma1 / np.sqrt(k)).ppf(1 - alpha)\n",
    "\n",
    "def get_power(k, T):\n",
    "    return scipy.stats.norm(loc=T2, scale=sigma2 / np.sqrt(k)).sf(T)\n",
    "\n",
    "powers = []\n",
    "for k in range(1, 10):\n",
    "    T = get_T(k=k, alpha=alpha)\n",
    "    powers.append(get_power(k=k, T=T))\n",
    "\n",
    "fig, ax = plt.subplots(1, 1, figsize=(10, 7))\n",
    "ax.plot(range(1, 10), powers, label='Test power')\n",
    "ax.grid(True)\n",
    "ax.legend()\n",
    "ax.set_xlabel('Number of samples')\n",
    "ax.set_ylabel('Power value')\n",
    "\n",
    "plt.show()"
   ]
  },
  {
   "cell_type": "markdown",
   "metadata": {},
   "source": [
    "**Выводы:** Мощность теста быстро растёт с увеличением размера выборки. Уже при пяти объектах мощность критерия достигает 1, что означает, что вероятность принять $H_0$ при условии, что верна $H_1$ стремится к 0."
   ]
  },
  {
   "cell_type": "markdown",
   "metadata": {},
   "source": [
    "### Задача 3"
   ]
  },
  {
   "cell_type": "markdown",
   "metadata": {},
   "source": [
    "В 5 серии 13 сезона передачи “Разрушители легенд” проверялась справедливость выражения “know something like the back of one’s hand”. В эксперименте принимало участие 12 испытуемых. Каждому из них были предъявлены 10 фотографий похожих рук разных людей, среди которых они должны были угадать свою.\n",
    "11 из 12 испытуемых выбрали свою фотографию.\n",
    "\\($H_0$\\): испытуемые выбирают фотографии тыльной стороны руки наугад (\\($p$=0.1\\)).\n",
    "\\($H_1$\\): испытуемые выбирают фотографию тыльной стороны своей собственной руки осознанно (\\($p>0.1$\\)).\n",
    "\n",
    "\n",
    "Воспользуйтесь точным биномиальным критерием для проверки (H_0) против альтернативы (H_1). Для этого:\n",
    "\n",
    "\t• Постройте нулевое распределение статистики числа успехов в выборке распределения Бернулли с параметром p. Сформируйте выборку сами напрямую из условия задачи.\n",
    "\t• Напишите функцию, которая принимала бы на вход тройку чисел (np,nq,p0), где np – число успехов, nq – число неудач в выборке размера np + nq, p0 – значение параметра p, задающего нулевую гипотезу. Ваша функция должна возвращать значение достигаемого уровня значимости против правосторонней альтернативы.\n",
    "\t• Визуально сравните поведение значения, выдаваемые вашей функцией со стандартным тестом\n",
    "    scipy.stats.binom_test(·)\n",
    "\t• Отвергается ли гипотеза (H_0) на достигаемом уровне значимости 0.05? p-value?"
   ]
  },
  {
   "cell_type": "code",
   "execution_count": 9,
   "metadata": {},
   "outputs": [
    {
     "data": {
      "text/plain": [
       "array([0, 0, 0, 0, 0, 0, 0, 0, 0, 0, 0, 0])"
      ]
     },
     "execution_count": 9,
     "metadata": {},
     "output_type": "execute_result"
    }
   ],
   "source": [
    "n_p, n_q, p = 11, 1, 0.1\n",
    "n = n_p + n_q\n",
    "\n",
    "data = np.random.binomial(1, p, [n])\n",
    "data"
   ]
  },
  {
   "cell_type": "code",
   "execution_count": 10,
   "metadata": {},
   "outputs": [
    {
     "data": {
      "image/png": "[encoded data removed]",
      "text/plain": [
       "<Figure size 432x288 with 1 Axes>"
      ]
     },
     "metadata": {
      "needs_background": "light"
     },
     "output_type": "display_data"
    }
   ],
   "source": [
    "def plot_binom(n, p):\n",
    "    plt.bar(np.arange(n), scipy.stats.binom(n=n, p=p).pmf(np.arange(n)))\n",
    "    plt.xticks(np.arange(n + 1))\n",
    "    \n",
    "plot_binom(n, p)\n",
    "plt.title('Число успехов в выборке распределения Бернулли с p = 0.1')\n",
    "plt.show()"
   ]
  },
  {
   "cell_type": "code",
   "execution_count": 11,
   "metadata": {},
   "outputs": [],
   "source": [
    "def get_p_value(n_p, n_q, p0):\n",
    "    n = n_p + n_q\n",
    "    return 1 - scipy.stats.binom(n=n, p=p0).cdf(n_p) + scipy.stats.binom(n=n, p=p0).pmf(n_p)"
   ]
  },
  {
   "cell_type": "code",
   "execution_count": 12,
   "metadata": {},
   "outputs": [
    {
     "name": "stdout",
     "output_type": "stream",
     "text": [
      "p-value: 1.0899997787828001e-10\n",
      "p-value 1.0900000000000006e-10\n"
     ]
    }
   ],
   "source": [
    "print('p-value:', get_p_value(n_p, n_q, p))\n",
    "print('p-value', scipy.stats.binom_test([n_p, n_q], p=p, alternative='greater'))"
   ]
  },
  {
   "cell_type": "markdown",
   "metadata": {},
   "source": [
    "**Выводы:** $p_{value} \\le \\frac{\\alpha}{2}$, следовательно гипотеза $H_0$ отвергается в пользу альтернативной гипотезы $H_1$"
   ]
  },
  {
   "cell_type": "markdown",
   "metadata": {},
   "source": [
    "### Задача 4"
   ]
  },
  {
   "cell_type": "markdown",
   "metadata": {},
   "source": [
    "24 умственно отсталых ребёнка с СДВГ в течение недели принимали либо метилфенидат, либо плацебо, а в конце недели проходили тест на способность к подавлению импульсивных поведенческих реакций. На втором этапе плацебо и препарат менялись, после недельного курса каждый испытуемые проходили второй тест.\n",
    "Каков эффект препарата?"
   ]
  },
  {
   "cell_type": "code",
   "execution_count": 13,
   "metadata": {},
   "outputs": [
    {
     "data": {
      "text/html": [
       "<div>\n",
       "<style scoped>\n",
       "    .dataframe tbody tr th:only-of-type {\n",
       "        vertical-align: middle;\n",
       "    }\n",
       "\n",
       "    .dataframe tbody tr th {\n",
       "        vertical-align: top;\n",
       "    }\n",
       "\n",
       "    .dataframe thead th {\n",
       "        text-align: right;\n",
       "    }\n",
       "</style>\n",
       "<table border=\"1\" class=\"dataframe\">\n",
       "  <thead>\n",
       "    <tr style=\"text-align: right;\">\n",
       "      <th></th>\n",
       "      <th>D0</th>\n",
       "      <th>D60</th>\n",
       "    </tr>\n",
       "  </thead>\n",
       "  <tbody>\n",
       "    <tr>\n",
       "      <th>19</th>\n",
       "      <td>54</td>\n",
       "      <td>59</td>\n",
       "    </tr>\n",
       "    <tr>\n",
       "      <th>16</th>\n",
       "      <td>36</td>\n",
       "      <td>33</td>\n",
       "    </tr>\n",
       "    <tr>\n",
       "      <th>11</th>\n",
       "      <td>42</td>\n",
       "      <td>57</td>\n",
       "    </tr>\n",
       "    <tr>\n",
       "      <th>6</th>\n",
       "      <td>71</td>\n",
       "      <td>77</td>\n",
       "    </tr>\n",
       "    <tr>\n",
       "      <th>18</th>\n",
       "      <td>36</td>\n",
       "      <td>33</td>\n",
       "    </tr>\n",
       "  </tbody>\n",
       "</table>\n",
       "</div>"
      ],
      "text/plain": [
       "    D0  D60\n",
       "19  54   59\n",
       "16  36   33\n",
       "11  42   57\n",
       "6   71   77\n",
       "18  36   33"
      ]
     },
     "execution_count": 13,
     "metadata": {},
     "output_type": "execute_result"
    }
   ],
   "source": [
    "adhd = pd.read_csv(\"ADHD.txt\", sep=' ')\n",
    "adhd.sample(5)"
   ]
  },
  {
   "cell_type": "markdown",
   "metadata": {},
   "source": [
    "Чтобы использовать $t$-критерий Стьюдента для связанных выборок, необходимо проверить, нет ли существенных отклонений от нормальности попарных разностей. Для этого воспользуйтесь визуальной проверкой нормальности (функция `qqplot` из `statsmodels`), a также библиотечным тестом проверки нормальности: `scipy.stats.shapiro`"
   ]
  },
  {
   "cell_type": "code",
   "execution_count": 14,
   "metadata": {},
   "outputs": [
    {
     "name": "stdout",
     "output_type": "stream",
     "text": [
      "Test for D0. Statistics: 0.857, P-value: 0.003\n",
      "Test for D60. Statistics: 0.916, P-value: 0.049\n",
      "Test for D0 - D60. Statistics: 0.980, P-value: 0.892\n"
     ]
    },
    {
     "data": {
      "image/png": "[encoded data removed]",
      "text/plain": [
       "<Figure size 2880x720 with 3 Axes>"
      ]
     },
     "metadata": {
      "needs_background": "light"
     },
     "output_type": "display_data"
    }
   ],
   "source": [
    "import statsmodels.graphics.gofplots\n",
    "\n",
    "print(\"Test for D0. Statistics: {0:.3f}, P-value: {1:.3f}\".format(*scipy.stats.shapiro(adhd['D0'])))\n",
    "print(\"Test for D60. Statistics: {0:.3f}, P-value: {1:.3f}\".format(*scipy.stats.shapiro(adhd['D60'])))\n",
    "print(\"Test for D0 - D60. Statistics: {0:.3f}, P-value: {1:.3f}\".format(*scipy.stats.shapiro(adhd['D0'] - adhd['D60'])))\n",
    "fig, ax = plt.subplots(1, 3, figsize=(40, 10))\n",
    "\n",
    "_ = statsmodels.graphics.gofplots.qqplot(\n",
    "    (adhd['D0'] - np.mean(adhd['D0'])) / np.std(adhd['D0'], ddof=1), \n",
    "    ax=ax[0], line='45', color='red', label='D0'\n",
    ")\n",
    "_ = statsmodels.graphics.gofplots.qqplot(\n",
    "    (adhd['D60'] - np.mean(adhd['D60'])) / np.std(adhd['D60'], ddof=1), \n",
    "    ax=ax[1], line='45', color='red', label='D60'\n",
    ")\n",
    "_ = statsmodels.graphics.gofplots.qqplot(\n",
    "    ((adhd['D0'] - adhd['D60']) - np.mean(adhd['D0'] - adhd['D60'])) / np.std(adhd['D0'] - adhd['D60'], ddof=1), \n",
    "    ax=ax[2], line='45', color='red', label='D0 - D60'\n",
    ")\n",
    "_ = statsmodels.graphics.gofplots.qqplot(scipy.stats.norm.rvs(size=adhd.shape[0]), ax=ax[0], label='Samples from normal')\n",
    "_ = statsmodels.graphics.gofplots.qqplot(scipy.stats.norm.rvs(size=adhd.shape[0]), ax=ax[1], label='Samples from normal')\n",
    "_ = statsmodels.graphics.gofplots.qqplot(scipy.stats.norm.rvs(size=adhd.shape[0]), ax=ax[2], label='Samples from normal')\n",
    "ax[0].legend()\n",
    "ax[1].legend()\n",
    "ax[2].legend()\n",
    "plt.show()"
   ]
  },
  {
   "cell_type": "markdown",
   "metadata": {},
   "source": [
    "Примените $t$-критерий Стьюдента `scipy.stats.ttest_rel` для связанных выборок."
   ]
  },
  {
   "cell_type": "code",
   "execution_count": 15,
   "metadata": {},
   "outputs": [
    {
     "data": {
      "text/plain": [
       "Ttest_relResult(statistic=-3.2223624451230406, pvalue=0.003771488176381471)"
      ]
     },
     "execution_count": 15,
     "metadata": {},
     "output_type": "execute_result"
    }
   ],
   "source": [
    "scipy.stats.ttest_rel(adhd['D0'], adhd['D60'])"
   ]
  },
  {
   "cell_type": "markdown",
   "metadata": {},
   "source": [
    "Если бы у нас не было информации о связях между выборками, пришлось бы применять версию критерия Стьюдента для независимых выборок `scipy.stats.ttest_ind`. Сравните результаты применения критерия Стьюдента к этим данным, если считать выборки связанными и не связанными. В какои из этих случаев уровень достигаемой значимости меньше? Как вы думаете почему?"
   ]
  },
  {
   "cell_type": "code",
   "execution_count": 16,
   "metadata": {},
   "outputs": [
    {
     "data": {
      "text/plain": [
       "Ttest_indResult(statistic=-1.452163501815909, pvalue=0.1532433046938409)"
      ]
     },
     "execution_count": 16,
     "metadata": {},
     "output_type": "execute_result"
    }
   ],
   "source": [
    "scipy.stats.ttest_ind(adhd['D0'], adhd['D60'])"
   ]
  },
  {
   "cell_type": "markdown",
   "metadata": {},
   "source": [
    "**Выводы:**\n",
    "* Сравнение QQ-графика для данных и для выборки из нормального распределения того же размера не позволяет сделать однозначного вывода о нормальности соответствующих распределений.\n",
    "* Большое значение $p_{value}$ в тесте на нормальность Шапиро подтверждает гипотезу нормальности выборки из разностей D0 - D60. При этом, отдельно выборки D0, D60 считать нормально распределёнными нельзя.  \n",
    "Таким образом применение t-критерия Стьюдента для связных выборок обоснованно.\n",
    "* Применение теста для зависимых выборок показывает, что применение препарата увеличивает способность к подавлению импульсивных поведенческих реакций. При этом малое значение $p_{value}$ показывает, что нулевая гипотеза о том, что препарат с среднем не влияет на замеряемый параметр должна быть отвергнута в пользу альтернативы о том, что в среднем влияние присутсвует.\n",
    "* Если рассматривать данную выборку как две серии независимых наблюдений получаем, что $p_{value}$ велико. Из этого следует, что отвергнуть нулевую гипотезу нельзя. Отличие результатов двух тестов можно объяснить тем, что во-втором случае теоретические гарантии применения теста нарушены, что не позволяет считать его результаты достоверными. Если даже предположить, что нарушение условий применимости влияет на результаты теста не сильно, то знание о связи значений в данных позволяет снизить дисперсию статистики, что в свою очередь приводит к уменьшению $p_{value}$."
   ]
  },
  {
   "cell_type": "markdown",
   "metadata": {},
   "source": [
    "### Задача 5"
   ]
  },
  {
   "cell_type": "markdown",
   "metadata": {},
   "source": [
    "Задана выборка $Y$ результатов распознавания для некоторой задачи классификации."
   ]
  },
  {
   "cell_type": "code",
   "execution_count": 17,
   "metadata": {},
   "outputs": [
    {
     "data": {
      "image/png": "[encoded data removed]",
      "text/plain": [
       "<Figure size 432x288 with 1 Axes>"
      ]
     },
     "metadata": {
      "needs_background": "light"
     },
     "output_type": "display_data"
    }
   ],
   "source": [
    "Y = pd.read_excel(\"t2_data.xlsx\").values.ravel()\n",
    "\n",
    "plt.plot(np.arange(Y.size)[Y == 1], np.count_nonzero(Y == 1) * [1], 'r+', label='Y = 1')\n",
    "plt.plot(np.arange(Y.size)[Y == 0], np.count_nonzero(Y == 0) * [0], 'b.', label='Y = 0')\n",
    "plt.legend()\n",
    "plt.show()"
   ]
  },
  {
   "cell_type": "markdown",
   "metadata": {},
   "source": [
    "Оцените доверительный интервал для показателя *ACCURACY* с использованием..."
   ]
  },
  {
   "cell_type": "markdown",
   "metadata": {},
   "source": [
    "Метода Клоппера-Пирсона (с использованием аппроксимации через __бета__ распределение).\n",
    "\n",
    "    http://en.wikipedia.org/wiki/Binomial_proportion_confidence_interval\n",
    "    alpha confidence intervals for a binomial distribution of k expected successes on n trials"
   ]
  },
  {
   "cell_type": "code",
   "execution_count": 18,
   "metadata": {},
   "outputs": [],
   "source": [
    "def bin_clopper_pearson(data, alpha=0.05, use_statmodels=False):\n",
    "    x = np.sum(data)\n",
    "    n = data.shape[0]\n",
    "    \n",
    "    if use_statmodels:\n",
    "        return statsmodels.stats.proportion.proportion_confint(x, n, alpha, 'beta')\n",
    "    \n",
    "    return (\n",
    "        scipy.stats.beta(x, n - x + 1).ppf(alpha / 2.0),\n",
    "        scipy.stats.beta(x + 1, n - x).ppf(1.0 - alpha / 2.0)\n",
    "    )"
   ]
  },
  {
   "cell_type": "markdown",
   "metadata": {},
   "source": [
    "А также с помощью __нормальной__ аппроксимации"
   ]
  },
  {
   "cell_type": "code",
   "execution_count": 19,
   "metadata": {},
   "outputs": [],
   "source": [
    "def bin_true(data, alpha=0.05):\n",
    "    x = np.sum(data)\n",
    "    n = data.shape[0]\n",
    "    \n",
    "    return statsmodels.stats.proportion.proportion_confint(x, n, alpha, 'binom_test')\n",
    "\n",
    "def bin_normal_approx(data, alpha=0.05, use_statmodels=False):\n",
    "    x = np.sum(data)\n",
    "    n = data.shape[0]\n",
    "    u = scipy.stats.norm.ppf(1 - alpha / 2)\n",
    "    \n",
    "    if use_statmodels:\n",
    "        return statsmodels.stats.proportion.proportion_confint(x, n, alpha, 'normal')\n",
    "    \n",
    "    return (\n",
    "        (x - u * np.sqrt(x / n * (n - x))) / (n),\n",
    "        (x + u * np.sqrt(x / n * (n - x))) / (n)\n",
    "    )\n",
    "\n",
    "def bin_wilson_approx(data, alpha=0.05, use_statmodels=False):\n",
    "    x = np.sum(data)\n",
    "    n = data.shape[0]\n",
    "    u = scipy.stats.norm.ppf(1 - alpha / 2)\n",
    "    \n",
    "    if use_statmodels:\n",
    "        return statsmodels.stats.proportion.proportion_confint(x, n, alpha, 'wilson')\n",
    "\n",
    "    return (\n",
    "        (x + u ** 2 / 2.0 - u * np.sqrt(x / n * (n - x) + u ** 2 / 4.0)) / (n + u ** 2),\n",
    "        (x + u ** 2 / 2.0 + u * np.sqrt(x / n * (n - x) + u ** 2 / 4.0)) / (n + u ** 2)\n",
    "    )"
   ]
  },
  {
   "cell_type": "markdown",
   "metadata": {},
   "source": [
    "Сравните результаты и сделайте выводы."
   ]
  },
  {
   "cell_type": "code",
   "execution_count": 20,
   "metadata": {},
   "outputs": [
    {
     "data": {
      "text/html": [
       "<div>\n",
       "<style scoped>\n",
       "    .dataframe tbody tr th:only-of-type {\n",
       "        vertical-align: middle;\n",
       "    }\n",
       "\n",
       "    .dataframe tbody tr th {\n",
       "        vertical-align: top;\n",
       "    }\n",
       "\n",
       "    .dataframe thead th {\n",
       "        text-align: right;\n",
       "    }\n",
       "</style>\n",
       "<table border=\"1\" class=\"dataframe\">\n",
       "  <thead>\n",
       "    <tr style=\"text-align: right;\">\n",
       "      <th></th>\n",
       "      <th>alpha</th>\n",
       "      <th>True interval</th>\n",
       "      <th>Clopper-Pearson</th>\n",
       "      <th>Normal</th>\n",
       "      <th>Normal (SO)</th>\n",
       "    </tr>\n",
       "  </thead>\n",
       "  <tbody>\n",
       "    <tr>\n",
       "      <th>0</th>\n",
       "      <td>0.100</td>\n",
       "      <td>[0.516, 0.718]</td>\n",
       "      <td>[0.515, 0.726]</td>\n",
       "      <td>[0.525, 0.725]</td>\n",
       "      <td>[0.522, 0.718]</td>\n",
       "    </tr>\n",
       "    <tr>\n",
       "      <th>1</th>\n",
       "      <td>0.075</td>\n",
       "      <td>[0.508, 0.727]</td>\n",
       "      <td>[0.506, 0.733]</td>\n",
       "      <td>[0.517, 0.733]</td>\n",
       "      <td>[0.514, 0.724]</td>\n",
       "    </tr>\n",
       "    <tr>\n",
       "      <th>2</th>\n",
       "      <td>0.050</td>\n",
       "      <td>[0.5, 0.736]</td>\n",
       "      <td>[0.495, 0.743]</td>\n",
       "      <td>[0.506, 0.744]</td>\n",
       "      <td>[0.503, 0.733]</td>\n",
       "    </tr>\n",
       "    <tr>\n",
       "      <th>3</th>\n",
       "      <td>0.025</td>\n",
       "      <td>[0.484, 0.753]</td>\n",
       "      <td>[0.478, 0.757]</td>\n",
       "      <td>[0.489, 0.761]</td>\n",
       "      <td>[0.485, 0.747]</td>\n",
       "    </tr>\n",
       "    <tr>\n",
       "      <th>4</th>\n",
       "      <td>0.010</td>\n",
       "      <td>[0.46, 0.772]</td>\n",
       "      <td>[0.457, 0.774]</td>\n",
       "      <td>[0.469, 0.781]</td>\n",
       "      <td>[0.464, 0.762]</td>\n",
       "    </tr>\n",
       "  </tbody>\n",
       "</table>\n",
       "</div>"
      ],
      "text/plain": [
       "   alpha   True interval Clopper-Pearson          Normal     Normal (SO)\n",
       "0  0.100  [0.516, 0.718]  [0.515, 0.726]  [0.525, 0.725]  [0.522, 0.718]\n",
       "1  0.075  [0.508, 0.727]  [0.506, 0.733]  [0.517, 0.733]  [0.514, 0.724]\n",
       "2  0.050    [0.5, 0.736]  [0.495, 0.743]  [0.506, 0.744]  [0.503, 0.733]\n",
       "3  0.025  [0.484, 0.753]  [0.478, 0.757]  [0.489, 0.761]  [0.485, 0.747]\n",
       "4  0.010   [0.46, 0.772]  [0.457, 0.774]  [0.469, 0.781]  [0.464, 0.762]"
      ]
     },
     "execution_count": 20,
     "metadata": {},
     "output_type": "execute_result"
    }
   ],
   "source": [
    "res = defaultdict(list)\n",
    "res[\"alpha\"] = alpha_list\n",
    "res[\"True interval\"] = [np.round(bin_true(Y, alpha), 3) for alpha in alpha_list]\n",
    "res[\"Clopper-Pearson\"] = [np.round(bin_clopper_pearson(Y, alpha, use_statmodels=False), 3) for alpha in alpha_list]\n",
    "res[\"Normal\"] = [np.round(bin_normal_approx(Y, alpha, use_statmodels=False), 3) for alpha in alpha_list]\n",
    "res[\"Normal (SO)\"] = [np.round(bin_wilson_approx(Y, alpha, use_statmodels=False), 3) for alpha in alpha_list]\n",
    "res = pd.DataFrame(res)\n",
    "res"
   ]
  },
  {
   "cell_type": "code",
   "execution_count": 21,
   "metadata": {},
   "outputs": [
    {
     "data": {
      "text/html": [
       "<div>\n",
       "<style scoped>\n",
       "    .dataframe tbody tr th:only-of-type {\n",
       "        vertical-align: middle;\n",
       "    }\n",
       "\n",
       "    .dataframe tbody tr th {\n",
       "        vertical-align: top;\n",
       "    }\n",
       "\n",
       "    .dataframe thead th {\n",
       "        text-align: right;\n",
       "    }\n",
       "</style>\n",
       "<table border=\"1\" class=\"dataframe\">\n",
       "  <thead>\n",
       "    <tr style=\"text-align: right;\">\n",
       "      <th></th>\n",
       "      <th>alpha</th>\n",
       "      <th>Clopper-Pearson</th>\n",
       "      <th>Normal</th>\n",
       "      <th>Normal (SO)</th>\n",
       "    </tr>\n",
       "  </thead>\n",
       "  <tbody>\n",
       "    <tr>\n",
       "      <th>0</th>\n",
       "      <td>0.100</td>\n",
       "      <td>[0.001, -0.008]</td>\n",
       "      <td>[-0.009, -0.007]</td>\n",
       "      <td>[-0.006, 0.0]</td>\n",
       "    </tr>\n",
       "    <tr>\n",
       "      <th>1</th>\n",
       "      <td>0.075</td>\n",
       "      <td>[0.002, -0.006]</td>\n",
       "      <td>[-0.009, -0.006]</td>\n",
       "      <td>[-0.006, 0.003]</td>\n",
       "    </tr>\n",
       "    <tr>\n",
       "      <th>2</th>\n",
       "      <td>0.050</td>\n",
       "      <td>[0.005, -0.007]</td>\n",
       "      <td>[-0.006, -0.008]</td>\n",
       "      <td>[-0.003, 0.003]</td>\n",
       "    </tr>\n",
       "    <tr>\n",
       "      <th>3</th>\n",
       "      <td>0.025</td>\n",
       "      <td>[0.006, -0.004]</td>\n",
       "      <td>[-0.005, -0.008]</td>\n",
       "      <td>[-0.001, 0.006]</td>\n",
       "    </tr>\n",
       "    <tr>\n",
       "      <th>4</th>\n",
       "      <td>0.010</td>\n",
       "      <td>[0.003, -0.002]</td>\n",
       "      <td>[-0.009, -0.009]</td>\n",
       "      <td>[-0.004, 0.01]</td>\n",
       "    </tr>\n",
       "  </tbody>\n",
       "</table>\n",
       "</div>"
      ],
      "text/plain": [
       "   alpha  Clopper-Pearson            Normal      Normal (SO)\n",
       "0  0.100  [0.001, -0.008]  [-0.009, -0.007]    [-0.006, 0.0]\n",
       "1  0.075  [0.002, -0.006]  [-0.009, -0.006]  [-0.006, 0.003]\n",
       "2  0.050  [0.005, -0.007]  [-0.006, -0.008]  [-0.003, 0.003]\n",
       "3  0.025  [0.006, -0.004]  [-0.005, -0.008]  [-0.001, 0.006]\n",
       "4  0.010  [0.003, -0.002]  [-0.009, -0.009]   [-0.004, 0.01]"
      ]
     },
     "execution_count": 21,
     "metadata": {},
     "output_type": "execute_result"
    }
   ],
   "source": [
    "deltas = defaultdict(list)\n",
    "deltas[\"alpha\"] = alpha_list\n",
    "deltas[\"Clopper-Pearson\"] = [[np.round(lt - l, 3), np.round(rt - r, 3)] for (lt, rt), (l, r) in zip(res[\"True interval\"], res[\"Clopper-Pearson\"])]\n",
    "deltas[\"Normal\"] = [[np.round(lt - l, 3), np.round(rt - r, 3)] for (lt, rt), (l, r) in zip(res[\"True interval\"], res[\"Normal\"])]\n",
    "deltas[\"Normal (SO)\"] = [[np.round(lt - l, 3), np.round(rt - r, 3)] for (lt, rt), (l, r) in zip(res[\"True interval\"], res[\"Normal (SO)\"])]\n",
    "\n",
    "deltas = pd.DataFrame(deltas)\n",
    "deltas"
   ]
  },
  {
   "cell_type": "markdown",
   "metadata": {},
   "source": [
    "Также сравните ваши реализованные метод с библиотечными: `statsmodels.stats.proportion.proportion_confint`, в вариантах  `proportion_confint(k, n, alpha, 'beta')` и `proportion_confint(k, n, alpha, 'normal')`"
   ]
  },
  {
   "cell_type": "code",
   "execution_count": 22,
   "metadata": {},
   "outputs": [
    {
     "data": {
      "text/html": [
       "<div>\n",
       "<style scoped>\n",
       "    .dataframe tbody tr th:only-of-type {\n",
       "        vertical-align: middle;\n",
       "    }\n",
       "\n",
       "    .dataframe tbody tr th {\n",
       "        vertical-align: top;\n",
       "    }\n",
       "\n",
       "    .dataframe thead th {\n",
       "        text-align: right;\n",
       "    }\n",
       "</style>\n",
       "<table border=\"1\" class=\"dataframe\">\n",
       "  <thead>\n",
       "    <tr style=\"text-align: right;\">\n",
       "      <th></th>\n",
       "      <th>alpha</th>\n",
       "      <th>True interval</th>\n",
       "      <th>Clopper-Pearson</th>\n",
       "      <th>Clopper-Pearson Check</th>\n",
       "      <th>Normal</th>\n",
       "      <th>Normal Check</th>\n",
       "      <th>Normal (SO)</th>\n",
       "      <th>Normal Check (SO)</th>\n",
       "    </tr>\n",
       "  </thead>\n",
       "  <tbody>\n",
       "    <tr>\n",
       "      <th>0</th>\n",
       "      <td>0.100</td>\n",
       "      <td>[0.516, 0.718]</td>\n",
       "      <td>[0.515, 0.726]</td>\n",
       "      <td>[0.515, 0.726]</td>\n",
       "      <td>[0.525, 0.725]</td>\n",
       "      <td>[0.525, 0.725]</td>\n",
       "      <td>[0.522, 0.718]</td>\n",
       "      <td>[0.522, 0.718]</td>\n",
       "    </tr>\n",
       "    <tr>\n",
       "      <th>1</th>\n",
       "      <td>0.075</td>\n",
       "      <td>[0.508, 0.727]</td>\n",
       "      <td>[0.506, 0.733]</td>\n",
       "      <td>[0.506, 0.733]</td>\n",
       "      <td>[0.517, 0.733]</td>\n",
       "      <td>[0.517, 0.733]</td>\n",
       "      <td>[0.514, 0.724]</td>\n",
       "      <td>[0.514, 0.724]</td>\n",
       "    </tr>\n",
       "    <tr>\n",
       "      <th>2</th>\n",
       "      <td>0.050</td>\n",
       "      <td>[0.5, 0.736]</td>\n",
       "      <td>[0.495, 0.743]</td>\n",
       "      <td>[0.495, 0.743]</td>\n",
       "      <td>[0.506, 0.744]</td>\n",
       "      <td>[0.506, 0.744]</td>\n",
       "      <td>[0.503, 0.733]</td>\n",
       "      <td>[0.503, 0.733]</td>\n",
       "    </tr>\n",
       "    <tr>\n",
       "      <th>3</th>\n",
       "      <td>0.025</td>\n",
       "      <td>[0.484, 0.753]</td>\n",
       "      <td>[0.478, 0.757]</td>\n",
       "      <td>[0.478, 0.757]</td>\n",
       "      <td>[0.489, 0.761]</td>\n",
       "      <td>[0.489, 0.761]</td>\n",
       "      <td>[0.485, 0.747]</td>\n",
       "      <td>[0.485, 0.747]</td>\n",
       "    </tr>\n",
       "    <tr>\n",
       "      <th>4</th>\n",
       "      <td>0.010</td>\n",
       "      <td>[0.46, 0.772]</td>\n",
       "      <td>[0.457, 0.774]</td>\n",
       "      <td>[0.457, 0.774]</td>\n",
       "      <td>[0.469, 0.781]</td>\n",
       "      <td>[0.469, 0.781]</td>\n",
       "      <td>[0.464, 0.762]</td>\n",
       "      <td>[0.464, 0.762]</td>\n",
       "    </tr>\n",
       "  </tbody>\n",
       "</table>\n",
       "</div>"
      ],
      "text/plain": [
       "   alpha   True interval Clopper-Pearson Clopper-Pearson Check  \\\n",
       "0  0.100  [0.516, 0.718]  [0.515, 0.726]        [0.515, 0.726]   \n",
       "1  0.075  [0.508, 0.727]  [0.506, 0.733]        [0.506, 0.733]   \n",
       "2  0.050    [0.5, 0.736]  [0.495, 0.743]        [0.495, 0.743]   \n",
       "3  0.025  [0.484, 0.753]  [0.478, 0.757]        [0.478, 0.757]   \n",
       "4  0.010   [0.46, 0.772]  [0.457, 0.774]        [0.457, 0.774]   \n",
       "\n",
       "           Normal    Normal Check     Normal (SO) Normal Check (SO)  \n",
       "0  [0.525, 0.725]  [0.525, 0.725]  [0.522, 0.718]    [0.522, 0.718]  \n",
       "1  [0.517, 0.733]  [0.517, 0.733]  [0.514, 0.724]    [0.514, 0.724]  \n",
       "2  [0.506, 0.744]  [0.506, 0.744]  [0.503, 0.733]    [0.503, 0.733]  \n",
       "3  [0.489, 0.761]  [0.489, 0.761]  [0.485, 0.747]    [0.485, 0.747]  \n",
       "4  [0.469, 0.781]  [0.469, 0.781]  [0.464, 0.762]    [0.464, 0.762]  "
      ]
     },
     "execution_count": 22,
     "metadata": {},
     "output_type": "execute_result"
    }
   ],
   "source": [
    "res = defaultdict(list)\n",
    "res[\"alpha\"] = alpha_list\n",
    "res[\"True interval\"] = [np.round(bin_true(Y, alpha), 3) for alpha in alpha_list]\n",
    "res[\"Clopper-Pearson\"] = [np.round(bin_clopper_pearson(Y, alpha, use_statmodels=False), 3) for alpha in alpha_list]\n",
    "res[\"Clopper-Pearson Check\"] = [np.round(bin_clopper_pearson(Y, alpha, use_statmodels=True), 3) for alpha in alpha_list]\n",
    "res[\"Normal\"] = [np.round(bin_normal_approx(Y, alpha, use_statmodels=False), 3) for alpha in alpha_list]\n",
    "res[\"Normal Check\"] = [np.round(bin_normal_approx(Y, alpha, use_statmodels=True), 3) for alpha in alpha_list]\n",
    "res[\"Normal (SO)\"] = [np.round(bin_wilson_approx(Y, alpha, use_statmodels=False), 3) for alpha in alpha_list]\n",
    "res[\"Normal Check (SO)\"] = [np.round(bin_wilson_approx(Y, alpha, use_statmodels=True), 3) for alpha in alpha_list]\n",
    "res = pd.DataFrame(res)\n",
    "res"
   ]
  },
  {
   "cell_type": "markdown",
   "metadata": {},
   "source": [
    "**Выводы:** Метод Клоппера-Пирсона является наиболее точным приближением для оценки доверительных интеравалов для данной выборки. Оценка с помощью нормального распределения является менее точным способом, однако, если выполнить \"честную\" оценку нормальным распределением (метод Вильсона), то полученные интервалы для больших значений $\\alpha$ оказываются ближе к точным оценкам. "
   ]
  }
 ],
 "metadata": {
  "kernelspec": {
   "display_name": "Python 3",
   "language": "python",
   "name": "python3"
  },
  "language_info": {
   "codemirror_mode": {
    "name": "ipython",
    "version": 3
   },
   "file_extension": ".py",
   "mimetype": "text/x-python",
   "name": "python",
   "nbconvert_exporter": "python",
   "pygments_lexer": "ipython3",
   "version": "3.7.0"
  }
 },
 "nbformat": 4,
 "nbformat_minor": 2
}
