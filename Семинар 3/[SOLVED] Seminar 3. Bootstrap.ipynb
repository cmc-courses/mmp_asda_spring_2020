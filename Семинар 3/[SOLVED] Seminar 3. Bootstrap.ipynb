{
 "cells": [
  {
   "cell_type": "markdown",
   "metadata": {},
   "source": [
    "<center>Заметка 3. \tБутстреп.</center>\n",
    "<center>курса <q>Прикладной статистический анализ данных</q>.</center>"
   ]
  },
  {
   "cell_type": "markdown",
   "metadata": {},
   "source": [
    "<b>Шаг 1: Создание повторных выборок (\"псевдовыборок\")</b>  \n",
    "\n",
    "Создаем сотни новых выборок путем сэмплирования объектов с возвращением из исходной случайной выборки. Размер каждой повторной выборки совпадает с исходной случайной выборкой. В результате, каждый объект может встречаться один раз, более одного раза или вообще отсутствовать. \n",
    "\n",
    "<b>Шаг 2: Расчёт бутстреп распределения</b>   \n",
    "\n",
    "Вычисляется статистика для каждой повторной выборки. Множество полученных статистик образует некоторое выборочное распределение и называется бутстреп-распределением.  \n",
    "\n",
    "<b>Шаг 3: Применение бутстреп-распределение</b>  \n",
    "\n",
    "Бутстреп-распределение дает информацию о форме, центре и разбросе выборочного распределения исследуемой статистики. С его помощью можно вычислять доверительные интервалы на данную статистику с произвольным уровнем значимости, а также проверять статистические гипотезы $H_0$, $H_1$."
   ]
  },
  {
   "cell_type": "markdown",
   "metadata": {},
   "source": [
    "<b>Основная идея</b>\n",
    "\n",
    "- Повторные выборки из основной представляют то, что мы получили бы, если бы взяли большое количество выборок из популяции.\n",
    "\n",
    "- Распределение статистики бутстрепа, основанное на множестве повторных выборок представляет собой выборочное распределение статистики, основанное на множестве истинных выборок."
   ]
  },
  {
   "cell_type": "markdown",
   "metadata": {},
   "source": [
    "## Bootstrap standart error"
   ]
  },
  {
   "cell_type": "markdown",
   "metadata": {},
   "source": [
    "Если интересующая нас статистика является средним значением выборки $\\bar{x}$, то стандартная ошибка бутстрепа, основанная на повторных выборках:\n",
    "\n",
    "$$SE_{boot,\\bar{x}}= \\sqrt{\\frac{1}{B-1}\\sum\\bigg(\\bar{x}^* - \\frac{1}{B}\\sum\\bar{x}^*\\bigg)^2}$$\n",
    " \n",
    "В этом выражении $\\bar{x}^*$ представляет собой среднее значение отдельной повторной выборки. Стандартная ошибка бутстрепа -- это обычное стандартное отклонение значений $B$ в $\\bar{x}^*$. Звездочка в $\\bar{x}^*$ отличает среднее значение повторной выборки от среднего значения $\\bar{x}$ исходной выборки."
   ]
  },
  {
   "cell_type": "markdown",
   "metadata": {},
   "source": [
    "## Распределение выборки и бутстреп распределение"
   ]
  },
  {
   "cell_type": "markdown",
   "metadata": {},
   "source": [
    "<b>1. Параметрический метод</b>\n",
    "\n",
    "Если мы знаем, что объекты из генеральной совокупности распределены нормально, то теория говорит нам, что выборочное распределение их среднего значения $\\bar{x}$ также является нормальным."
   ]
  },
  {
   "cell_type": "markdown",
   "metadata": {},
   "source": [
    "![Теория](https://user-images.githubusercontent.com/60938140/74949302-a0aa1d80-540e-11ea-8f0c-73b6050fc7fd.png)"
   ]
  },
  {
   "cell_type": "markdown",
   "metadata": {},
   "source": [
    " "
   ]
  },
  {
   "cell_type": "markdown",
   "metadata": {},
   "source": [
    "<b>2. Наивный метод</b>\n",
    "\n",
    "Берём очень много истинных выборок, считаем среднее значение $\\bar{x}$ для каждой истинной выборки и смотрим на распределение этих значений."
   ]
  },
  {
   "cell_type": "markdown",
   "metadata": {},
   "source": [
    "![Наивныйметод](https://user-images.githubusercontent.com/60938140/74949346-b28bc080-540e-11ea-86fb-e85f9a878c5a.png)"
   ]
  },
  {
   "cell_type": "markdown",
   "metadata": {},
   "source": [
    " "
   ]
  },
  {
   "cell_type": "markdown",
   "metadata": {},
   "source": [
    "<b>3. Бутстреп</b>\n",
    "\n",
    "Когда теория не работает, и мы можем позволить себе только одну истинную выборку, то эта истинная выборка заменяет генеральную совокупность. Тогда распределение $\\bar{x}$ рассчитанное по множеству \"псевдовыборок\" заменяет распределение выборки."
   ]
  },
  {
   "cell_type": "markdown",
   "metadata": {},
   "source": [
    "![Бутстреп](https://user-images.githubusercontent.com/60938140/74949363-b91a3800-540e-11ea-8175-f1606d751cea.png)"
   ]
  },
  {
   "cell_type": "markdown",
   "metadata": {},
   "source": [
    "# Расходы покупателей"
   ]
  },
  {
   "cell_type": "markdown",
   "metadata": {},
   "source": [
    "Имеются размеры сумм в долларах, потраченных 50 покупателями в супермаркете. Мы готовы рассматривать это как SRS (Simple Random Sample) всех покупателей на этом рынке.     "
   ]
  },
  {
   "cell_type": "code",
   "execution_count": 1,
   "metadata": {},
   "outputs": [],
   "source": [
    "spending = [3.11, 8.88, 9.26, 10.81, 12.69, 13.78, 15.23, 15.62, 17.00, 17.39,\n",
    "            18.36, 18.43, 19.27, 19.50, 19.54, 20.16, 20.59, 22.22, 23.04, 24.47,\n",
    "            24.58, 25.13, 26.24, 26.26, 27.65, 28.06, 28.08, 28.38, 32.03, 34.98,\n",
    "            36.37, 38.64, 39.16, 41.02, 42.97, 44.08, 44.67, 45.40, 46.69, 48.65,\n",
    "            50.39, 52.75, 54.80, 59.07, 61.22, 70.32, 82.70, 85.76, 86.37, 93.34]"
   ]
  },
  {
   "cell_type": "code",
   "execution_count": 2,
   "metadata": {},
   "outputs": [
    {
     "data": {
      "text/plain": [
       "34.7022"
      ]
     },
     "execution_count": 2,
     "metadata": {},
     "output_type": "execute_result"
    }
   ],
   "source": [
    "import numpy as np\n",
    "np.mean(spending)"
   ]
  },
  {
   "cell_type": "markdown",
   "metadata": {},
   "source": [
    "1) Составьте гистограмму данных. Распределение слегка искажено."
   ]
  },
  {
   "cell_type": "code",
   "execution_count": 3,
   "metadata": {},
   "outputs": [
    {
     "data": {
      "text/plain": [
       "(array([ 4., 13., 11.,  5.,  6.,  4.,  2.,  1.,  1.,  3.]),\n",
       " array([ 3.11 , 12.133, 21.156, 30.179, 39.202, 48.225, 57.248, 66.271,\n",
       "        75.294, 84.317, 93.34 ]),\n",
       " <a list of 10 Patch objects>)"
      ]
     },
     "execution_count": 3,
     "metadata": {},
     "output_type": "execute_result"
    },
    {
     "data": {
      "image/png": "[encoded data removed]",
      "text/plain": [
       "<Figure size 432x288 with 1 Axes>"
      ]
     },
     "metadata": {
      "needs_background": "light"
     },
     "output_type": "display_data"
    }
   ],
   "source": [
    "import matplotlib.pyplot as plt\n",
    "plt.hist(spending)"
   ]
  },
  {
   "cell_type": "markdown",
   "metadata": {},
   "source": [
    "2) Центральная предельная теорема говорит, что средние значения выборок будут группироваться вблизи среднего значения совокупности более плотно по мере увеличения размера каждой выборки. Распределение выборки примерно нормальное для n = 50? Чтобы выяснить это, воспользуйтесь бутстрепом и посмотрите среднее для полученного распределения."
   ]
  },
  {
   "cell_type": "code",
   "execution_count": 4,
   "metadata": {},
   "outputs": [
    {
     "name": "stdout",
     "output_type": "stream",
     "text": [
      "34.724539480000004\n"
     ]
    }
   ],
   "source": [
    "import numpy as np\n",
    "samples_boot = np.random.choice(spending, (len(spending),5000), replace= True)\n",
    "samples_boot = samples_boot.mean(axis=0)\n",
    "print(np.mean(samples_boot))"
   ]
  },
  {
   "cell_type": "code",
   "execution_count": 5,
   "metadata": {},
   "outputs": [
    {
     "data": {
      "image/png": "[encoded data removed]",
      "text/plain": [
       "<Figure size 432x288 with 1 Axes>"
      ]
     },
     "metadata": {
      "needs_background": "light"
     },
     "output_type": "display_data"
    }
   ],
   "source": [
    "plt.hist(samples_boot);"
   ]
  },
  {
   "cell_type": "markdown",
   "metadata": {},
   "source": [
    "3) Сравните стандартные ошибки. \n",
    "\n",
    "У нас есть два способа оценить стандартное отклонение среднего значения выборки $\\bar{x}$: использовать формулу $s\\big/\\sqrt{n}$ для стандартной ошибки или использовать bootstrap standart error. Найдите стандартное отклонение выборки $s$ и используйте его, чтобы найти стандартную ошибку $s\\big/\\sqrt{n}$ среднего значения выборки. Насколько ваш результат согласуется с bootstrap standart error?"
   ]
  },
  {
   "cell_type": "code",
   "execution_count": 6,
   "metadata": {},
   "outputs": [
    {
     "data": {
      "text/plain": [
       "3.0376357818540396"
      ]
     },
     "execution_count": 6,
     "metadata": {},
     "output_type": "execute_result"
    }
   ],
   "source": [
    "np.std(spending)/np.sqrt(len(spending))"
   ]
  },
  {
   "cell_type": "code",
   "execution_count": 7,
   "metadata": {},
   "outputs": [
    {
     "name": "stdout",
     "output_type": "stream",
     "text": [
      "SE =  21.697398441814567\n"
     ]
    }
   ],
   "source": [
    "# нужно использовать формулу, которая описана выше, где B - количество сэмплов (в нашем случае 5000)\n",
    "SE = np.sqrt(np.sum((spending - np.mean(spending))**2)/(len(spending) - 1))\n",
    "print(\"SE = \", SE)"
   ]
  },
  {
   "cell_type": "code",
   "execution_count": 8,
   "metadata": {},
   "outputs": [],
   "source": [
    "boot_n = 5000\n",
    "lst_boot = []\n",
    "for i in range(boot_n):\n",
    "    samples_boot = np.random.choice(spending, len(spending), replace= True)\n",
    "    mean_boot = np.mean(samples_boot)\n",
    "    lst_boot.append(mean_boot)"
   ]
  },
  {
   "cell_type": "code",
   "execution_count": 9,
   "metadata": {},
   "outputs": [
    {
     "name": "stdout",
     "output_type": "stream",
     "text": [
      "SE_bootstrap =  3.056013930262418\n"
     ]
    }
   ],
   "source": [
    "SE_bootstrap = np.sqrt(np.sum((lst_boot - np.sum(lst_boot)/boot_n)**2)/(boot_n - 1))\n",
    "print(\"SE_bootstrap = \", SE_bootstrap)"
   ]
  },
  {
   "cell_type": "markdown",
   "metadata": {},
   "source": [
    "## Доверительный интервал"
   ]
  },
  {
   "cell_type": "markdown",
   "metadata": {},
   "source": [
    "Вспомним односторонний доверительный интервал для среднего значения нормально распределеной совокупности:\n",
    "\n",
    "$$\\bar{x} \\pm t^* \\frac{s}{\\sqrt{n}}$$\n",
    "\n",
    "Этот интервал основан на нормальном распределении выборки со средним значением выборки $x$ и формулой для стандартной ошибки выборки $x$. Когда бутстреп распределение приблизительно нормальное и имеет небольшое смещение, мы можем использовать ту же самую формулу со стандартной ошибкой бутстрепа, чтобы получить доверительный интервал для любого параметра. \n",
    "\n",
    "Предположим, что бутстреп распределение статистики из SRS размера $n$ приблизительно нормально и мало смещено. Тогда аппроксимация доверительного интервала на любую статистику вычисляется через бутстреп:\n",
    "\n",
    "$$statistic \\pm t^*SE_{boot,statistic}$$\n",
    "\n",
    "где $t^*$ - критическое значение $t(n-1)$ распределения с площадью между $-t^*$ и $t^*$."
   ]
  },
  {
   "cell_type": "code",
   "execution_count": 10,
   "metadata": {},
   "outputs": [],
   "source": [
    "import scipy\n",
    "from scipy.stats import t"
   ]
  },
  {
   "cell_type": "markdown",
   "metadata": {},
   "source": [
    "4) Найдите 95% доверительный интервал для среднего $\\mu$ генеральной совокупности, основываясь на ваших \"псевдовыборках\".  "
   ]
  },
  {
   "cell_type": "code",
   "execution_count": 11,
   "metadata": {},
   "outputs": [
    {
     "data": {
      "text/plain": [
       "[28.551301580954856, 40.82767081904515]"
      ]
     },
     "execution_count": 11,
     "metadata": {},
     "output_type": "execute_result"
    }
   ],
   "source": [
    "alpha = 0.05\n",
    "n = len(lst_boot)\n",
    "statistic = np.mean(lst_boot)\n",
    "[statistic - t.ppf(1 - alpha/2, n)*SE_bootstrap,statistic + t.ppf(1 - alpha/2, n)*SE_bootstrap]"
   ]
  },
  {
   "cell_type": "markdown",
   "metadata": {},
   "source": [
    "5) Также найдите стандартный односторонний доверительный интервал. Он отличается от двухстороннего только используемыми стандартными ошибками. Насколько похожи интервалы?"
   ]
  },
  {
   "cell_type": "code",
   "execution_count": 12,
   "metadata": {},
   "outputs": [
    {
     "name": "stdout",
     "output_type": "stream",
     "text": [
      "[> 30.720599059777044 ] или [< 38.658373340222965 ]\n"
     ]
    }
   ],
   "source": [
    "alpha = 0.1\n",
    "n = len(lst_boot)\n",
    "statistic = np.mean(lst_boot)\n",
    "print(\"[>\", statistic - t.ppf(1 - alpha, n)*SE_bootstrap,\"] или [<\",statistic + t.ppf(1 - alpha, n)*SE_bootstrap,\"]\")"
   ]
  },
  {
   "cell_type": "code",
   "execution_count": null,
   "metadata": {},
   "outputs": [],
   "source": []
  }
 ],
 "metadata": {
  "kernelspec": {
   "display_name": "Python 3",
   "language": "python",
   "name": "python3"
  },
  "language_info": {
   "codemirror_mode": {
    "name": "ipython",
    "version": 3
   },
   "file_extension": ".py",
   "mimetype": "text/x-python",
   "name": "python",
   "nbconvert_exporter": "python",
   "pygments_lexer": "ipython3",
   "version": "3.6.5"
  }
 },
 "nbformat": 4,
 "nbformat_minor": 4
}
